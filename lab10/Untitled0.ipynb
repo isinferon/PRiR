{
  "nbformat": 4,
  "nbformat_minor": 0,
  "metadata": {
    "colab": {
      "name": "Untitled0.ipynb",
      "provenance": []
    },
    "kernelspec": {
      "name": "python3",
      "display_name": "Python 3"
    }
  },
  "cells": [
    {
      "cell_type": "code",
      "metadata": {
        "colab": {
          "base_uri": "https://localhost:8080/"
        },
        "id": "zRnyDMp5mL6O",
        "outputId": "7105f8b0-e8d3-4e88-d8f2-4ef20be3a9d6"
      },
      "source": [
        "def prostokatow(function, a, b, i):\r\n",
        "    dx = (b - a) / i\r\n",
        "    integr = 0\r\n",
        "    for x in range(i):\r\n",
        "        x = x * dx + a\r\n",
        "        integr += dx * eval(function)\r\n",
        "    return integr\r\n",
        "integral = prostokatow('x**2', 0.0, 1.0, 100)\r\n",
        "integral\r\n",
        "\r\n"
      ],
      "execution_count": 4,
      "outputs": [
        {
          "output_type": "execute_result",
          "data": {
            "text/plain": [
              "0.32835000000000014"
            ]
          },
          "metadata": {
            "tags": []
          },
          "execution_count": 4
        }
      ]
    }
  ]
}