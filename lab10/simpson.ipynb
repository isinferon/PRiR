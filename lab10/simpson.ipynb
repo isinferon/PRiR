{
  "nbformat": 4,
  "nbformat_minor": 0,
  "metadata": {
    "colab": {
      "name": "Untitled0.ipynb",
      "provenance": [],
      "authorship_tag": "ABX9TyN9j64fcLMfrZSUxPRbVQQI",
      "include_colab_link": true
    },
    "kernelspec": {
      "name": "python3",
      "display_name": "Python 3"
    }
  },
  "cells": [
    {
      "cell_type": "markdown",
      "metadata": {
        "id": "view-in-github",
        "colab_type": "text"
      },
      "source": [
        "<a href=\"https://colab.research.google.com/github/isinferon/PRiR/blob/main/lab10/simpson.ipynb\" target=\"_parent\"><img src=\"https://colab.research.google.com/assets/colab-badge.svg\" alt=\"Open In Colab\"/></a>"
      ]
    },
    {
      "cell_type": "code",
      "metadata": {
        "colab": {
          "base_uri": "https://localhost:8080/"
        },
        "id": "zRnyDMp5mL6O",
        "outputId": "62b2f2c5-07b4-4cae-b4ac-a52f7376fa54"
      },
      "source": [
        "\r\n",
        "def trapezow(function, a, b, i):\r\n",
        "    dx = (b - a) / i\r\n",
        "    integr = 0\r\n",
        "    for x in range(i):\r\n",
        "        x = x * dx + a\r\n",
        "        fx1 = eval(function)\r\n",
        "        x += dx\r\n",
        "        fx2 = eval(function)\r\n",
        "        integr += 0.5 * dx * (fx1 + fx2)\r\n",
        "    return integr\r\n",
        "\r\n",
        "integral = trapezow('x**2', 0.0, 1.0, 100)\r\n",
        "integral"
      ],
      "execution_count": 6,
      "outputs": [
        {
          "output_type": "execute_result",
          "data": {
            "text/plain": [
              "0.33335"
            ]
          },
          "metadata": {
            "tags": []
          },
          "execution_count": 6
        }
      ]
    }
  ]
}