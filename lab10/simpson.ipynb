{
  "nbformat": 4,
  "nbformat_minor": 0,
  "metadata": {
    "colab": {
      "name": "Untitled0.ipynb",
      "provenance": [],
      "authorship_tag": "ABX9TyM6I6rzQPL78MZ3xhyQIavb",
      "include_colab_link": true
    },
    "kernelspec": {
      "name": "python3",
      "display_name": "Python 3"
    }
  },
  "cells": [
    {
      "cell_type": "markdown",
      "metadata": {
        "id": "view-in-github",
        "colab_type": "text"
      },
      "source": [
        "<a href=\"https://colab.research.google.com/github/isinferon/PRiR/blob/main/lab10/simpson.ipynb\" target=\"_parent\"><img src=\"https://colab.research.google.com/assets/colab-badge.svg\" alt=\"Open In Colab\"/></a>"
      ]
    },
    {
      "cell_type": "code",
      "metadata": {
        "colab": {
          "base_uri": "https://localhost:8080/"
        },
        "id": "zRnyDMp5mL6O",
        "outputId": "49277836-3c5a-4610-916c-9cb2dbb9e54f"
      },
      "source": [
        "\r\n",
        "def simpson(my_func, a, b, n):\r\n",
        "  delta_x = (b-a)/n\r\n",
        "  total = 0  \r\n",
        "  for i in range(0, n, 2):\r\n",
        "    x = a + delta_x * 2 * i\r\n",
        "    total += delta_x * (my_func(x) + 4 * my_func(x + delta_x) + my_func(x + 2 * delta_x)) / 3\r\n",
        "  return total\r\n",
        "\r\n",
        "integral = simpson(lambda x: x**2, 0.0, 1.0, 100)\r\n",
        "integral"
      ],
      "execution_count": 5,
      "outputs": [
        {
          "output_type": "execute_result",
          "data": {
            "text/plain": [
              "1.3133333333333335"
            ]
          },
          "metadata": {
            "tags": []
          },
          "execution_count": 5
        }
      ]
    }
  ]
}